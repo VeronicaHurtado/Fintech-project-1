{
 "cells": [
  {
   "cell_type": "code",
   "execution_count": 3,
   "id": "16d3496b-f628-4b2d-8f51-b1f784bfcba0",
   "metadata": {},
   "outputs": [],
   "source": [
    "def fuel_consumption(fuel_type, avg_speed, cost_per_litre):\n",
    "    if fuel_type == \"petrol\":\n",
    "        # Assume fuel consumption is 12.5 kilometres per litre\n",
    "        kml = 12.5\n",
    "    elif fuel_type == \"diesel\":\n",
    "        # Assume fuel consumption is 15.5 kilometres per litre\n",
    "        kml = 15.5\n",
    "    else:\n",
    "        # Raise an error for unsupported fuel types\n",
    "        raise ValueError(f\"Unsupported fuel type: {fuel_type}\")\n",
    "    # Calculate the number of litres consumed\n",
    "    litres_consumed = avg_speed / kml\n",
    "    # Calculate the cost of the fuel consumed\n",
    "    fuel_cost = litres_consumed * cost_per_litre\n",
    "    return fuel_cost\n"
   ]
  },
  {
   "cell_type": "code",
   "execution_count": null,
   "id": "d1107eeb-2ff6-4263-94d9-2e5c6512830a",
   "metadata": {},
   "outputs": [],
   "source": [
    "fuel_type: a string indicating the type of fuel used (either \"petrol\" or \"diesel\")\n",
    "avg_speed: a float indicating the average speed of the car (in kilometres per hour)\n",
    "cost_per_litre: a float indicating the cost of fuel per litre (in dollars)"
   ]
  },
  {
   "cell_type": "code",
   "execution_count": null,
   "id": "2aefb8ea-b7ef-4041-8feb-86531d3c667d",
   "metadata": {},
   "outputs": [],
   "source": [
    "Here is an example of how you could write a Python function to calculate fuel consumption for cars, taking into account fuel type, average speed, distance traveled and cost for fuel:"
   ]
  },
  {
   "cell_type": "code",
   "execution_count": null,
   "id": "929a97fc-3218-4c25-b31f-751ceb26996d",
   "metadata": {},
   "outputs": [],
   "source": [
    "def fuel_consumption(fuel_type, avg_speed, distance, cost_per_litre):\n",
    "    if fuel_type == \"petrol\":\n",
    "        # Assume fuel consumption is 12.5 kilometres per litre\n",
    "        kml = 12.5\n",
    "    elif fuel_type == \"diesel\":\n",
    "        # Assume fuel consumption is 15.5 kilometres per litre\n",
    "        kml = 15.5\n",
    "    else:\n",
    "        # Raise an error for unsupported fuel types\n",
    "        raise ValueError(f\"Unsupported fuel type: {fuel_type}\")\n",
    "    # Calculate the number of litres consumed\n",
    "    litres_consumed = distance / kml\n",
    "    # Calculate the cost of the fuel consumed\n",
    "    fuel_cost = litres_consumed * cost_per_litre\n",
    "    return fuel_cost\n"
   ]
  },
  {
   "cell_type": "code",
   "execution_count": null,
   "id": "77bb20f6-1e68-4154-8609-c0d981830c02",
   "metadata": {},
   "outputs": [],
   "source": [
    "The function takes in four arguments:\n",
    "\n",
    "fuel_type: a string indicating the type of fuel used (either \"petrol\" or \"diesel\")\n",
    "avg_speed: a float indicating the average speed of the car (in kilometres per hour)\n",
    "distance: a float indicating the distance travelled (in kilometres)\n",
    "cost_per_litre: a float indicating the cost of fuel per litre (in dollars)\n",
    "\n",
    "Formula for the same will be\n",
    "Fuel_cost = (distance / kml) * cost_per_litre\n",
    "\n",
    "This formula is also represented in the function above where we are calculating litres consumed by dividing distance with kml and then multiplying with cost per litre to get the fuel cost."
   ]
  },
  {
   "cell_type": "code",
   "execution_count": null,
   "id": "e22a3e9e-01f4-483a-8147-ed7711534a6e",
   "metadata": {},
   "outputs": [],
   "source": [
    "To calculate the specific cost of fuel between two destinations using a Google Maps API, you would need to first determine the distance between the two points, and then use that distance, along with the fuel consumption of the car, to calculate the cost of fuel. "
   ]
  },
  {
   "cell_type": "code",
   "execution_count": null,
   "id": "ec3188f6-0ac7-4677-9191-bf53307c3034",
   "metadata": {},
   "outputs": [],
   "source": [
    "import requests\n",
    "import json\n",
    "\n",
    "def fuel_cost_between_destinations(api_key, fuel_type, avg_speed, start_location, end_location, cost_per_litre):\n",
    "    # Use the Google Maps Distance Matrix API to get the distance between the two locations\n",
    "    url = f\"https://maps.googleapis.com/maps/api/distancematrix/json?units=imperial&mode=driving&origins={start_location}&destinations={end_location}&key={api_key}\"\n",
    "    response = requests.get(url)\n",
    "    data = json.loads(response.text)\n",
    "    distance = data[\"rows\"][0][\"elements\"][0][\"distance\"][\"value\"] / 1609.34  # convert meters to miles\n",
    "    if fuel_type == \"petrol\":\n",
    "        # Assume fuel consumption is 12.5 kilometres per litre\n",
    "        kml = 12.5\n",
    "    elif fuel_type == \"diesel\":\n",
    "        # Assume fuel consumption is 15.5 kilometres per litre\n",
    "        kml = 15.5\n",
    "    else:\n",
    "        # Raise an error for unsupported fuel types\n",
    "        raise ValueError(f\"Unsupported fuel type: {fuel_type}\")\n",
    "\n",
    "    # Calculate the number of litres consumed\n",
    "    litres_consumed = distance / kml\n",
    "    # Calculate the cost of the fuel consumed\n",
    "    fuel_cost = litres_consumed * cost_per_litre\n",
    "    return fuel_cost\n",
    "\n"
   ]
  },
  {
   "cell_type": "code",
   "execution_count": null,
   "id": "44366463-186b-4a31-b8c5-01b399230075",
   "metadata": {},
   "outputs": [],
   "source": [
    "This function takes in several arguments:\n",
    "\n",
    "api_key: a string indicating the API key for the Google Maps Distance Matrix API\n",
    "fuel_type: a string indicating the type of fuel used (either \"petrol\" or \"diesel\")\n",
    "avg_speed: a float indicating the average speed of the car (in kilometres per hour)\n",
    "start_location: a string indicating the starting location (for example, \"New York, NY\")\n",
    "end_location: a string indicating the ending location (for example, \"Los Angeles, CA\")\n",
    "cost_per_litre: a float indicating the cost of fuel per litre (in dollars)\n",
    "The function starts by sending a request to Google Maps API to get the distance between start_location and end_location and then calculates the fuel cost by using the distance and the cost_per_litre passed in. It is recommended to check the response status and also handling any exception before loading the data if any.\n",
    "\n",
    "It's important to note that you need to have a valid API key to use this function and using your API key for production usage is subject to the TOS of google. Also, 12.5,15.5 kml values are assumed here and could vary for different models and car makes."
   ]
  },
  {
   "cell_type": "code",
   "execution_count": null,
   "id": "75dc45eb-f14a-4249-9d6b-544b739adfc9",
   "metadata": {},
   "outputs": [],
   "source": [
    "To include an API for all car types and models to make the calculation more accurate, you could use an API that provides information about the fuel efficiency of different cars. You would then use the information from this API to determine the kilometres per litre (kml) of the car, instead of assuming a fixed value based on the fuel type. "
   ]
  },
  {
   "cell_type": "code",
   "execution_count": null,
   "id": "651fe17e-a202-4384-b8bf-529ed6581d8e",
   "metadata": {},
   "outputs": [],
   "source": [
    "import requests\n",
    "import json\n",
    "\n",
    "def fuel_cost_between_destinations(api_key, car_make, car_model, avg_speed, start_location, end_location, cost_per_litre):\n",
    "    # Use the Google Maps Distance Matrix API to get the distance between the two locations\n",
    "    url = f\"https://maps.googleapis.com/maps/api/distancematrix/json?units=imperial&mode=driving&origins={start_location}&destinations={end_location}&key={api_key}\"\n",
    "    response = requests.get(url)\n",
    "    data = json.loads(response.text)\n",
    "    distance = data[\"rows\"][0][\"elements\"][0][\"distance\"][\"value\"] / 1609.34  # convert meters to miles\n",
    "    \n",
    "    # Use another API to get the fuel efficiency of the car\n",
    "    car_api_url = f\"https://example.com/api/car_efficiency?make={car_make}&model={car_model}\"\n",
    "    car_response = requests.get(car_api_url)\n",
    "    car_data = json.loads(car_response.text)\n",
    "    try:\n",
    "        kml = car_data[\"mpg\"]\n",
    "    except KeyError:\n",
    "        raise ValueError(f\"No data found for {car_make} {car_model}.\")\n",
    "    # Calculate the number of litres consumed\n",
    "    litres_consumed = distance / kml\n",
    "    # Calculate the cost of the fuel consumed\n",
    "    fuel_cost = litres_consumed * cost_per_litre\n",
    "    return fuel_cost\n"
   ]
  },
  {
   "cell_type": "code",
   "execution_count": null,
   "id": "eca889eb-d3a3-40b7-89bf-5854cd5d7151",
   "metadata": {},
   "outputs": [],
   "source": [
    "streamlit process"
   ]
  },
  {
   "cell_type": "code",
   "execution_count": null,
   "id": "fca291ec-ba2b-476c-beb5-3dc7ecd4f77c",
   "metadata": {},
   "outputs": [],
   "source": [
    "import streamlit as st\n",
    "import requests\n",
    "import json\n"
   ]
  },
  {
   "cell_type": "code",
   "execution_count": null,
   "id": "0418ff79-b7ac-4e24-8bc1-352253166e87",
   "metadata": {},
   "outputs": [],
   "source": [
    "Define your function for fuel cost calculation and add it to the script. Make sure that you have all the necessary information such as the API keys and URLs for the Google Maps Distance Matrix API and Car efficiency API."
   ]
  },
  {
   "cell_type": "code",
   "execution_count": null,
   "id": "4fe62806-d328-43d8-8b00-5b271d2dd183",
   "metadata": {},
   "outputs": [],
   "source": [
    "def fuel_cost_between_destinations(api_key, car_make, car_model, avg_speed, start_location, end_location, cost_per_litre):\n",
    "    # Use the Google Maps Distance Matrix API to get the distance between the two locations\n",
    "    url = f\"https://maps.googleapis.com/maps/api/distancematrix/json?units=imperial&mode=driving&origins={start_location}&destinations={end_location}&key={api_key}\"\n",
    "    response = requests.get(url)\n",
    "    data = json.loads(response.text)\n",
    "    distance = data[\"rows\"][0][\"elements\"][0][\"distance\"][\"value\"] / 1609.34  # convert meters to miles\n",
    "    \n",
    "    # Use another API to get the fuel efficiency of the car\n",
    "    car_api_url = f\"https://example.com/api/car_efficiency?make={car_make}&model={car_model}\"\n",
    "    car_response = requests.get(car_api_url)\n",
    "    car_data = json.loads(car_response.text)\n",
    "    try:\n",
    "        kml = car_data[\"kml\"]\n",
    "    except KeyError:\n",
    "        raise ValueError(f\"No data found for {car_make} {car_model}.\")\n",
    "    # Calculate the number of litres consumed\n",
    "    litres_consumed = distance / kml\n",
    "    # Calculate the cost of the fuel consumed\n",
    "    fuel_cost = litres_consumed * cost_per_litre\n",
    "    return fuel_cost\n"
   ]
  },
  {
   "cell_type": "code",
   "execution_count": null,
   "id": "e0e4992f-4180-424b-ade6-0f9e8438ddbf",
   "metadata": {},
   "outputs": [],
   "source": [
    "Create a Streamlit app by adding the following code to the script"
   ]
  },
  {
   "cell_type": "code",
   "execution_count": null,
   "id": "c8c823f2-edf5-46bf-a4de-ef47dbff96a3",
   "metadata": {},
   "outputs": [],
   "source": [
    "st.title(\"Fuel Cost Calculator\")\n",
    "api_key = st.text_input(\"Google Maps API Key\", \"\")\n",
    "car_make = st.text_input(\"Car Make:\", \"\")\n",
    "car_model = st.text_input(\"Car Model:\", \"\")\n",
    "avg_speed = st.text_input(\"Average speed (kml):\", \"\")\n",
    "start_location = st.text_input(\"Start Location:\", \"\")\n",
    "end_location = st.text_input(\"End Location:\", \"\")\n",
    "cost_per_litre = st.text_input(\"Cost per litre:\", \"\")\n",
    "\n",
    "if st.button(\"Calculate Fuel Cost\"):\n",
    "    cost = fuel_cost_between_destinations(api_key, car_make, car_model, avg_speed, start_location, end_location, cost_per_litre)\n",
    "    st.success(\"The total fuel cost is $\" + str(cost))\n"
   ]
  },
  {
   "cell_type": "code",
   "execution_count": null,
   "id": "462525da-d21f-4024-9c02-29313d06dce9",
   "metadata": {},
   "outputs": [],
   "source": [
    "Python code that demonstrates how you could calculate the emissions saved between an initial destination and an end destination if no car is used:"
   ]
  },
  {
   "cell_type": "code",
   "execution_count": null,
   "id": "32bbda84-61f0-489e-9462-3a0b4fdfe5e1",
   "metadata": {},
   "outputs": [],
   "source": [
    "import math\n",
    "\n",
    "# Assume that a car produces emissions at a rate of 0.2 pounds per mile\n",
    "car_emissions_rate = 0.2\n",
    "\n",
    "# Get the distance between the initial and end destinations in miles\n",
    "initial_destination = \"New York City, NY\"\n",
    "end_destination = \"Los Angeles, CA\"\n",
    "distance = get_distance_between_destinations(initial_destination, end_destination)\n",
    "\n",
    "# Calculate the emissions saved by not using a car\n",
    "emissions_saved = distance * car_emissions_rate\n",
    "print(f\"Emissions saved by not using a car: {emissions_saved} pounds\")\n",
    "\n"
   ]
  },
  {
   "cell_type": "code",
   "execution_count": null,
   "id": "9d5462f9-fcaf-4d5d-9200-c731c826ad84",
   "metadata": {},
   "outputs": [],
   "source": [
    "In this example, the function get_distance_between_destinations(initial_destination, end_destination) would need to be implemented to return the distance between the two destinations in miles. There are many ways to do this, for example, one simple way to calculate distance is using Haversine formula which calculates the distance on a sphere"
   ]
  },
  {
   "cell_type": "code",
   "execution_count": null,
   "id": "4021b233-fd4d-48c2-afc8-c01806668539",
   "metadata": {},
   "outputs": [],
   "source": [
    "def get_distance_between_destinations(initial_destination, end_destination):\n",
    "    # Here you could use geolocation libraries or APIs\n",
    "    # like geopy or OpenRouteService to get the coordinates of the destinations\n",
    "    lat1, lon1 = get_coordinates(initial_destination)\n",
    "    lat2, lon2 = get_coordinates(end_destination)\n",
    "\n",
    "    # Convert latitude and longitude to spherical coordinates\n",
    "    degrees_to_radians = math.pi/180.0\n",
    "    phi1 = (90.0 - lat1)*degrees_to_radians\n",
    "    phi2 = (90.0 - lat2)*degrees_to_radians\n",
    "\n",
    "    # Compute spherical distance from spherical coordinates\n",
    "    # and convert it to miles\n",
    "    earth_radius = 3963.189\n",
    "    theta1 = lon1*degrees_to_radians\n",
    "    theta2 = lon2*degrees_to_radians\n",
    "    cos = (math.sin(phi1)*math.sin(phi2)*math.cos(theta1 - theta2) + math.cos(phi1)*math.cos(phi2))\n",
    "    arc = math.acos(cos)\n",
    "    distance = arc*earth_radius\n",
    "    return distance\n"
   ]
  },
  {
   "cell_type": "code",
   "execution_count": null,
   "id": "0c07366c-6e72-49f4-a238-7135521676e8",
   "metadata": {},
   "outputs": [],
   "source": [
    "import requests\n",
    "import json\n",
    "\n",
    "# Google Distance Matrix API key\n",
    "api_key = \"YOUR_API_KEY\"\n",
    "\n",
    "# Initial and end destinations\n",
    "initial_destination = \"New York City, NY\"\n",
    "end_destination = \"Los Angeles, CA\"\n",
    "\n",
    "# Use Google Distance Matrix API to get the distance between the destinations\n",
    "url = f\"https://maps.googleapis.com/maps/api/distancematrix/json?units=imperial&origins={initial_destination}&destinations={end_destination}&key={api_key}\"\n",
    "response = requests.get(url)\n",
    "data = json.loads(response.text)\n",
    "distance = data[\"rows\"][0][\"elements\"][0][\"distance\"][\"value\"] / 1609.34 # convert meters to miles\n",
    "\n",
    "# Use car emissions API to get the emissions rate for a car\n",
    "car_emissions_url = \"https://example.com/car_emissions_api\"\n",
    "car_emissions_response = requests.get(car_emissions_url)\n",
    "car_emissions_data = json.loads(car_emissions_response.text)\n",
    "car_emissions_rate = car_emissions_data[\"emissions_rate\"] # this is in lb/mile\n",
    "\n",
    "# Calculate the emissions saved by not using a car\n",
    "emissions_saved = distance * car_emissions_rate\n",
    "print(f\"Emissions saved by not using a car: {emissions_saved} pounds\")\n"
   ]
  }
 ],
 "metadata": {
  "kernelspec": {
   "display_name": "Python 3 (ipykernel)",
   "language": "python",
   "name": "python3"
  },
  "language_info": {
   "codemirror_mode": {
    "name": "ipython",
    "version": 3
   },
   "file_extension": ".py",
   "mimetype": "text/x-python",
   "name": "python",
   "nbconvert_exporter": "python",
   "pygments_lexer": "ipython3",
   "version": "3.9.13"
  }
 },
 "nbformat": 4,
 "nbformat_minor": 5
}

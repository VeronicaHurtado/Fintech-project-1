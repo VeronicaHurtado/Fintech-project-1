{
 "cells": [
  {
   "cell_type": "code",
   "execution_count": 1,
   "id": "afdcdd14-05e9-46cd-a03d-e56a8d00cdfc",
   "metadata": {},
   "outputs": [],
   "source": [
    "import functions\n",
    "import os\n",
    "from data_collection import get_distance, address_autocomplete, get_fuel_price"
   ]
  },
  {
   "cell_type": "code",
   "execution_count": 2,
   "id": "d4068b06-2e24-4a8e-bfe0-598b5adb16ac",
   "metadata": {},
   "outputs": [
    {
     "name": "stdout",
     "output_type": "stream",
     "text": [
      "<Response [400]>\n",
      "None\n"
     ]
    }
   ],
   "source": [
    "response = get_fuel_price()\n",
    "print(response)"
   ]
  },
  {
   "cell_type": "code",
   "execution_count": 2,
   "id": "ae4d4ca9-d1ec-490b-994c-3485a4b6de6d",
   "metadata": {},
   "outputs": [
    {
     "name": "stdout",
     "output_type": "stream",
     "text": [
      "{\n",
      "   \"predictions\" : [],\n",
      "   \"status\" : \"ZERO_RESULTS\"\n",
      "}\n",
      "\n"
     ]
    }
   ],
   "source": [
    "address_autocomplete('7 Thorngrove')"
   ]
  },
  {
   "cell_type": "code",
   "execution_count": 3,
   "id": "6bc1bed2-b430-40d1-9331-7166cd301f97",
   "metadata": {},
   "outputs": [
    {
     "name": "stdout",
     "output_type": "stream",
     "text": [
      "24.347\n"
     ]
    }
   ],
   "source": [
    "distance_in_Kms = get_distance(origins='1 Thorngrove Street Truganina', destinations='101 Collins Street Melbourne')\n",
    "print(distance_in_Kms)"
   ]
  }
 ],
 "metadata": {
  "kernelspec": {
   "display_name": "dev",
   "language": "python",
   "name": "dev"
  },
  "language_info": {
   "codemirror_mode": {
    "name": "ipython",
    "version": 3
   },
   "file_extension": ".py",
   "mimetype": "text/x-python",
   "name": "python",
   "nbconvert_exporter": "python",
   "pygments_lexer": "ipython3",
   "version": "3.7.13"
  }
 },
 "nbformat": 4,
 "nbformat_minor": 5
}

{
 "cells": [
  {
   "cell_type": "code",
   "execution_count": 1,
   "id": "afdcdd14-05e9-46cd-a03d-e56a8d00cdfc",
   "metadata": {},
   "outputs": [],
   "source": [
    "import functions\n",
    "import os\n",
    "from data_collection import get_distance"
   ]
  },
  {
   "cell_type": "code",
   "execution_count": 3,
   "id": "6bc1bed2-b430-40d1-9331-7166cd301f97",
   "metadata": {},
   "outputs": [
    {
     "name": "stdout",
     "output_type": "stream",
     "text": [
      "24.3 km\n"
     ]
    }
   ],
   "source": [
    "distance_in_Kms = get_distance(origins='1 Thorngrove Street Truganina', destinations='101 Collins Street Melbourne')\n",
    "print(distance_in_Kms)"
   ]
  }
 ],
 "metadata": {
  "kernelspec": {
   "display_name": "dev",
   "language": "python",
   "name": "dev"
  },
  "language_info": {
   "codemirror_mode": {
    "name": "ipython",
    "version": 3
   },
   "file_extension": ".py",
   "mimetype": "text/x-python",
   "name": "python",
   "nbconvert_exporter": "python",
   "pygments_lexer": "ipython3",
   "version": "3.7.13"
  }
 },
 "nbformat": 4,
 "nbformat_minor": 5
}
